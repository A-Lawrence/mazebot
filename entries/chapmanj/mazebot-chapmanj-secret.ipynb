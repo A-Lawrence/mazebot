{
 "cells": [
  {
   "cell_type": "markdown",
   "metadata": {},
   "source": [
    "# 1. Maze Traveler Code"
   ]
  },
  {
   "cell_type": "code",
   "execution_count": null,
   "metadata": {},
   "outputs": [],
   "source": [
    "import urllib, json, urllib.request, numpy as np"
   ]
  },
  {
   "cell_type": "code",
   "execution_count": null,
   "metadata": {},
   "outputs": [],
   "source": [
    "baseurl = \"https://api.noopschallenge.com\""
   ]
  },
  {
   "cell_type": "markdown",
   "metadata": {},
   "source": [
    "## 1.1 NOOP Challenge GET and POST functions"
   ]
  },
  {
   "cell_type": "code",
   "execution_count": null,
   "metadata": {},
   "outputs": [],
   "source": [
    "def get_maze(qurl):\n",
    "    with urllib.request.urlopen(qurl) as url:\n",
    "        question = json.loads(url.read().decode())\n",
    "        return question"
   ]
  },
  {
   "cell_type": "code",
   "execution_count": null,
   "metadata": {},
   "outputs": [],
   "source": [
    "def post(qurl, qanswer) :\n",
    "\n",
    "    head={'Content-Type': 'application/json'}\n",
    "    \n",
    "    answer = qanswer.encode('utf8')\n",
    "    \n",
    "    try :\n",
    "        req = urllib.request.Request(qurl, data=answer, headers=head)\n",
    "        res = urllib.request.urlopen(req)\n",
    "        response = json.load(res)\n",
    "\n",
    "        return response\n",
    "    \n",
    "    except urllib.error.HTTPError as e:\n",
    "        response = json.load(e)\n",
    "        return response"
   ]
  },
  {
   "cell_type": "markdown",
   "metadata": {},
   "source": [
    "## 1.2 Maze Walker Class"
   ]
  },
  {
   "cell_type": "code",
   "execution_count": null,
   "metadata": {},
   "outputs": [],
   "source": [
    "class Walker:\n",
    "    def __init__(self, x=0, y=0):\n",
    "        self.x = x\n",
    "        self.y = y\n",
    "        self.directions = []\n",
    "        self.locations = [[x, y]]\n",
    "        self.visited = [[x, y]]\n",
    "    \n",
    "    def xy(self) :\n",
    "        return [self.x, self.y]\n",
    "    \n",
    "    def N(self) :          \n",
    "        self.y -= 1\n",
    "        self.directions += 'N'        \n",
    "        self.record()\n",
    "    \n",
    "    def S(self) :\n",
    "        self.y += 1\n",
    "        self.directions += 'S'\n",
    "        self.record()\n",
    "\n",
    "    def E(self) :\n",
    "        self.x += 1\n",
    "        self.directions += 'E'\n",
    "        self.record()\n",
    "\n",
    "    def W(self) :\n",
    "        self.x -= 1\n",
    "        self.directions += 'W'\n",
    "        self.record()\n",
    "\n",
    "    def set_at(self, index) :       \n",
    "        self.x = self.locations[index][0]\n",
    "        self.y = self.locations[index][1]\n",
    "        self.locations = self.locations[0:index + 1]\n",
    "        self.directions = self.directions[0:index ]\n",
    "                \n",
    "    def record(self) :\n",
    "        self.locations.append([self.x, self.y])\n",
    "        self.visited.append([self.x, self.y])\n",
    "\n",
    "    def get_moves(self) :\n",
    "        return [self.N, self.S, self.E, self.W]\n",
    "    \n",
    "    def clone(self) :\n",
    "        myclone = Walker(self.x, self.y)\n",
    "        \n",
    "        for i in self.directions :\n",
    "            myclone.directions.append(i)\n",
    "        \n",
    "        for j in self.locations :\n",
    "            myclone.locations.append([j[0], j[1]])\n",
    "            \n",
    "        for k in self.visited :\n",
    "            myclone.visited.append([k[0], k[1]])\n",
    "        \n",
    "        return myclone\n",
    "    \n",
    "    def __str__(self) :\n",
    "        return '(' + str(self.x) + ',' + str(self.y) + ')'  + self.directions[-1] #+ self.visited"
   ]
  },
  {
   "cell_type": "markdown",
   "metadata": {},
   "source": [
    "## 1.3 Dungeon Master Class"
   ]
  },
  {
   "cell_type": "code",
   "execution_count": null,
   "metadata": {},
   "outputs": [],
   "source": [
    "class Dungeon_master :\n",
    "    def __init__(self, maze) :\n",
    "        self.maze = maze #col x row  (like x,y)\n",
    "        \n",
    "    def solve(self, walker, visualize=False, verbose=False, silent=False,  iterations=-1) :\n",
    "        \n",
    "        while [walker.x, walker.y] != self.maze['endingPosition'] :\n",
    "            \n",
    "            #neighbors ^v><^v><^v><^v><^v><^v><^v><^v><^v><^v><^v><^v><^v><\n",
    "                #<TOP SECRET CODE>\n",
    "            \n",
    "            #move forward >>>>>>>>>>>>>>>>>>>>>>>>>>>>>>>>>>>>>>>>>\n",
    "                #<TOP SECRET CODE>\n",
    "            \n",
    "            #backtrack <<<<<<<<<<<<<<<<<<<<<<<<<\n",
    "                #<TOP SECRET CODE>\n",
    "            \n",
    "            #feedback ^^^^^^^^^^^^^^^^^^^^^^^^^^^^^^^^^^\n",
    "                #<TOP SECRET CODE>\n",
    "        \n",
    "        #output ==================================>\n",
    "            #<TOP SECRET CODE>\n",
    "            \n",
    "        return walker.directions\n",
    "        "
   ]
  },
  {
   "cell_type": "markdown",
   "metadata": {},
   "source": [
    "## 1.4 Helper Functions"
   ]
  },
  {
   "cell_type": "code",
   "execution_count": null,
   "metadata": {},
   "outputs": [],
   "source": [
    "def draw_maze(maze_map, walker=None) :\n",
    "    \n",
    "    mymap = '\\n'\n",
    "    \n",
    "    i = 0\n",
    "    for row in maze_map:\n",
    "        j = 0    \n",
    "        for cell in row :\n",
    "            if walker != None and [j,i] in walker.locations and cell != 'A' and cell != 'B' : mymap += ' ='\n",
    "            else:  mymap += ' ' + cell \n",
    "            j += 1\n",
    "        mymap += '\\n'\n",
    "        i += 1\n",
    "    \n",
    "    print(mymap)"
   ]
  },
  {
   "cell_type": "markdown",
   "metadata": {},
   "source": [
    "# 2. Solve a maze"
   ]
  },
  {
   "cell_type": "code",
   "execution_count": null,
   "metadata": {},
   "outputs": [],
   "source": [
    "#get new maze\n",
    "#maze = get_maze(baseurl + '/mazebot/random')\n",
    "\n",
    "#or\n",
    "\n",
    "#use a single instance\n",
    "maze = {'name': 'Maze #472 (20x20)', 'mazePath': '/mazebot/mazes/bVDhG-4JSk4DiK1mJww7uN_hSO2juWMDIox26QVYR8Y', 'startingPosition': [17, 13], 'endingPosition': [12, 9], 'message': 'When you have figured out the solution, post it back to this url in JSON format. See the exampleSolution for more information.', 'exampleSolution': {'directions': 'ENWNNENWNNS'}, 'map': [[' ', ' ', ' ', ' ', ' ', ' ', ' ', 'X', 'X', 'X', 'X', 'X', 'X', 'X', 'X', ' ', ' ', ' ', ' ', ' '], [' ', 'X', 'X', ' ', 'X', ' ', 'X', ' ', 'X', ' ', 'X', 'X', 'X', 'X', 'X', ' ', 'X', ' ', 'X', ' '], [' ', ' ', 'X', ' ', 'X', ' ', ' ', ' ', ' ', ' ', ' ', ' ', 'X', ' ', ' ', ' ', 'X', ' ', 'X', ' '], [' ', ' ', 'X', ' ', 'X', ' ', 'X', 'X', 'X', 'X', ' ', ' ', ' ', ' ', 'X', ' ', 'X', ' ', 'X', ' '], [' ', 'X', 'X', ' ', 'X', ' ', ' ', ' ', ' ', 'X', 'X', 'X', 'X', ' ', 'X', ' ', 'X', ' ', 'X', ' '], [' ', ' ', ' ', ' ', 'X', ' ', 'X', 'X', ' ', 'X', ' ', ' ', 'X', ' ', 'X', ' ', 'X', ' ', 'X', ' '], [' ', 'X', 'X', 'X', 'X', ' ', 'X', ' ', ' ', 'X', 'X', 'X', 'X', ' ', 'X', ' ', 'X', ' ', 'X', ' '], [' ', 'X', ' ', ' ', 'X', ' ', ' ', 'X', 'X', 'X', ' ', ' ', ' ', ' ', ' ', ' ', 'X', ' ', 'X', ' '], [' ', 'X', 'X', 'X', ' ', 'X', ' ', 'X', ' ', ' ', 'X', 'X', 'X', 'X', 'X', 'X', 'X', 'X', 'X', ' '], [' ', ' ', ' ', 'X', ' ', ' ', 'X', ' ', 'X', 'X', 'X', ' ', 'B', ' ', ' ', ' ', ' ', ' ', ' ', ' '], [' ', 'X', ' ', 'X', 'X', 'X', ' ', 'X', ' ', ' ', ' ', 'X', 'X', 'X', 'X', 'X', 'X', 'X', 'X', ' '], [' ', ' ', ' ', ' ', ' ', ' ', 'X', ' ', 'X', 'X', 'X', ' ', ' ', ' ', ' ', ' ', ' ', ' ', ' ', ' '], ['X', ' ', 'X', 'X', 'X', ' ', 'X', ' ', ' ', ' ', ' ', 'X', 'X', 'X', 'X', 'X', 'X', 'X', 'X', 'X'], [' ', 'X', ' ', ' ', ' ', ' ', 'X', ' ', 'X', 'X', ' ', ' ', ' ', ' ', ' ', ' ', ' ', 'A', ' ', ' '], [' ', 'X', ' ', 'X', 'X', 'X', 'X', ' ', ' ', ' ', 'X', 'X', 'X', 'X', 'X', 'X', 'X', ' ', 'X', ' '], ['X', 'X', ' ', 'X', ' ', ' ', ' ', 'X', 'X', ' ', ' ', ' ', ' ', ' ', ' ', ' ', 'X', ' ', 'X', ' '], ['X', 'X', ' ', ' ', ' ', 'X', ' ', 'X', ' ', 'X', 'X', 'X', 'X', 'X', 'X', ' ', 'X', ' ', ' ', ' '], ['X', 'X', 'X', 'X', ' ', 'X', ' ', ' ', ' ', ' ', ' ', ' ', ' ', ' ', ' ', ' ', 'X', 'X', ' ', 'X'], ['X', 'X', 'X', 'X', ' ', ' ', 'X', ' ', 'X', ' ', 'X', ' ', ' ', 'X', ' ', 'X', ' ', ' ', ' ', 'X'], ['X', 'X', 'X', 'X', 'X', 'X', 'X', 'X', 'X', 'X', 'X', 'X', 'X', 'X', ' ', ' ', ' ', 'X', 'X', 'X']]}"
   ]
  },
  {
   "cell_type": "code",
   "execution_count": null,
   "metadata": {
    "scrolled": true
   },
   "outputs": [],
   "source": [
    "chapj = Walker(maze['startingPosition'][0], maze['startingPosition'][1])\n",
    "Yeshua = Dungeon_master(maze)\n",
    "maze_tour = Yeshua.solve(chapj, visualize=True, verbose=False, silent=False, iterations=-1)"
   ]
  },
  {
   "cell_type": "code",
   "execution_count": null,
   "metadata": {
    "scrolled": true
   },
   "outputs": [],
   "source": [
    "answer = '{\"directions\" : \"' + maze_tour + '\"}'\n",
    "answer"
   ]
  },
  {
   "cell_type": "code",
   "execution_count": null,
   "metadata": {},
   "outputs": [],
   "source": [
    "mazeboturl = baseurl + maze['mazePath']\n",
    "mazeboturl"
   ]
  },
  {
   "cell_type": "code",
   "execution_count": null,
   "metadata": {},
   "outputs": [],
   "source": [
    "response = post(mazeboturl, answer)\n",
    "print(response)"
   ]
  },
  {
   "cell_type": "markdown",
   "metadata": {},
   "source": [
    "# 3. RaceMode"
   ]
  },
  {
   "cell_type": "code",
   "execution_count": null,
   "metadata": {},
   "outputs": [],
   "source": [
    "response = get_maze('https://api.noopschallenge.com/mazebot/race')\n",
    "print(response['message'], response['exampleRequest'])"
   ]
  },
  {
   "cell_type": "code",
   "execution_count": null,
   "metadata": {
    "scrolled": true
   },
   "outputs": [],
   "source": [
    "def start_race() :\n",
    "    response = post(baseurl + '/mazebot/race/start', '{\"login\" : \"chapmanj\"}')\n",
    "\n",
    "    while response.get('nextMaze') != None :\n",
    "\n",
    "        #get maze\n",
    "        maze = get_maze(baseurl + response['nextMaze'])\n",
    "\n",
    "        print('attepting: ' + maze['name'])\n",
    "\n",
    "        #solve it\n",
    "        chapj = Walker(maze['startingPosition'][0], maze['startingPosition'][1])\n",
    "        Yeshua = Dungeon_master(maze)\n",
    "        maze_tour = Yeshua.solve(chapj, visualize=False, verbose=False, silent=True)\n",
    "        answer = '{\"directions\" : \"' + maze_tour + '\"}'\n",
    "\n",
    "        mazeboturl = baseurl + maze['mazePath']\n",
    "\n",
    "        response = post(mazeboturl, answer)\n",
    "\n",
    "        print(response)\n",
    "        print('---')"
   ]
  },
  {
   "cell_type": "code",
   "execution_count": null,
   "metadata": {},
   "outputs": [],
   "source": [
    "start_race()"
   ]
  }
 ],
 "metadata": {
  "kernelspec": {
   "display_name": "Python 3",
   "language": "python",
   "name": "python3"
  },
  "language_info": {
   "codemirror_mode": {
    "name": "ipython",
    "version": 3
   },
   "file_extension": ".py",
   "mimetype": "text/x-python",
   "name": "python",
   "nbconvert_exporter": "python",
   "pygments_lexer": "ipython3",
   "version": "3.7.3"
  }
 },
 "nbformat": 4,
 "nbformat_minor": 2
}
